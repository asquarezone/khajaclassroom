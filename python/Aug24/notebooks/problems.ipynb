{
 "cells": [
  {
   "cell_type": "markdown",
   "metadata": {},
   "source": [
    "### Exercise 1: **FizzBuzz Variation**\n",
    "- **Problem:** Write a function called `fizzbuzz_variant(n)` that takes an integer `n` and returns a list of numbers from 1 to `n`. For multiples of three, append `\"Fizz\"` instead of the number, for multiples of five append `\"Buzz\"`, and for multiples of both three and five append `\"FizzBuzz\"`.\n",
    "- **Expected Output:**\n",
    "  ```python\n",
    "  fizzbuzz_variant(15)\n",
    "  # Output: [1, 2, \"Fizz\", 4, \"Buzz\", \"Fizz\", 7, 8, \"Fizz\", \"Buzz\", 11, \"Fizz\", 13, 14, \"FizzBuzz\"]\n",
    "  ```"
   ]
  },
  {
   "cell_type": "code",
   "execution_count": 52,
   "metadata": {},
   "outputs": [],
   "source": [
    "def fizzbuzz_variant(n):\n",
    "    \"\"\"This is solution for above mentioned problem\n",
    "\n",
    "    Args:\n",
    "        n (int): number\n",
    "    \"\"\"\n",
    "    result = []\n",
    "    for index in range(1, n+1):\n",
    "        if index%3 == 0 and index %5==0:\n",
    "            result.append('FizzBuzz')\n",
    "        elif index%3 == 0:\n",
    "            result.append('Fizz')\n",
    "        elif index%5 == 0:\n",
    "            result.append('Buzz')\n",
    "        else:\n",
    "            result.append(index)\n",
    "    return result\n"
   ]
  },
  {
   "cell_type": "code",
   "execution_count": 53,
   "metadata": {},
   "outputs": [
    {
     "name": "stdout",
     "output_type": "stream",
     "text": [
      "[1, 2, 'Fizz', 4, 'Buzz', 'Fizz', 7, 8, 'Fizz', 'Buzz', 11, 'Fizz', 13, 14, 'FizzBuzz']\n"
     ]
    }
   ],
   "source": [
    "result = fizzbuzz_variant(15)\n",
    "print(result)"
   ]
  },
  {
   "cell_type": "markdown",
   "metadata": {},
   "source": [
    "### Exercise 4: **Palindrome Checker**\n",
    "- **Problem:** Write a function `is_palindrome(s)` that takes a string `s` and returns `True` if it is a palindrome (reads the same forwards and backwards), and `False` otherwise.\n",
    "- **Expected Output:**\n",
    "  ```python\n",
    "  is_palindrome(\"racecar\")\n",
    "  # Output: True\n",
    "  ```\n"
   ]
  },
  {
   "cell_type": "code",
   "execution_count": 54,
   "metadata": {},
   "outputs": [],
   "source": [
    "def is_palindrome(s):\n",
    "    \"\"\"This function checks if the string is palindrome or not\n",
    "\n",
    "    Args:\n",
    "        s (str): string Passed\n",
    "\n",
    "    Returns:\n",
    "       bool: True if palindrome, False other wise\n",
    "    \"\"\"\n",
    "    return s == s[::-1]"
   ]
  },
  {
   "cell_type": "code",
   "execution_count": 55,
   "metadata": {},
   "outputs": [
    {
     "data": {
      "text/plain": [
       "True"
      ]
     },
     "execution_count": 55,
     "metadata": {},
     "output_type": "execute_result"
    }
   ],
   "source": [
    "is_palindrome(\"racecar\")"
   ]
  },
  {
   "cell_type": "code",
   "execution_count": 56,
   "metadata": {},
   "outputs": [
    {
     "data": {
      "text/plain": [
       "False"
      ]
     },
     "execution_count": 56,
     "metadata": {},
     "output_type": "execute_result"
    }
   ],
   "source": [
    "is_palindrome('test')"
   ]
  },
  {
   "cell_type": "markdown",
   "metadata": {},
   "source": [
    "### Exercise 5: **Dictionary Manipulation**\n",
    "- **Problem:** Write a function `invert_dict(d)` that takes a dictionary `d` and returns a new dictionary where the keys are the values and the values are the keys.\n",
    "- **Expected Output:**\n",
    "  ```python\n",
    "  invert_dict({\"a\": 1, \"b\": 2, \"c\": 3})\n",
    "  # Output: {1: \"a\", 2: \"b\", 3: \"c\"}\n",
    "  ```"
   ]
  },
  {
   "cell_type": "code",
   "execution_count": 57,
   "metadata": {},
   "outputs": [],
   "source": [
    "def invert_dict(d):\n",
    "    return dict(zip(d.values(), d.keys()))"
   ]
  },
  {
   "cell_type": "code",
   "execution_count": 58,
   "metadata": {},
   "outputs": [
    {
     "data": {
      "text/plain": [
       "{1: 'a', 2: 'b', 3: 'c'}"
      ]
     },
     "execution_count": 58,
     "metadata": {},
     "output_type": "execute_result"
    }
   ],
   "source": [
    "invert_dict({\"a\": 1, \"b\": 2, \"c\": 3})"
   ]
  },
  {
   "cell_type": "markdown",
   "metadata": {},
   "source": [
    "### Exercise 6: **String Manipulation**\n",
    "- **Problem:** Write a function `vowel_count(s)` that takes a string `s` and returns a dictionary with vowels as keys and their counts as values.\n",
    "- **Expected Output:**\n",
    "  ```python\n",
    "  vowel_count(\"hello world\")\n",
    "  # Output: {\"e\": 1, \"o\": 2}\n",
    "  ```"
   ]
  },
  {
   "cell_type": "code",
   "execution_count": 64,
   "metadata": {},
   "outputs": [],
   "source": [
    "def vowel_count(s):\n",
    "    \"\"\"This function will take string and return vowel count\n",
    "\n",
    "    Args:\n",
    "        s (str): text passed\n",
    "\n",
    "    Returns:\n",
    "        dict: vowel and its count\n",
    "    \"\"\"\n",
    "    result = { }\n",
    "    s = s.lower()\n",
    "    VOWELS = \"aeiou\"\n",
    "    for c in s:\n",
    "        for vowel in VOWELS:\n",
    "            if c == vowel:\n",
    "                if c in result:\n",
    "                    result[c] += 1\n",
    "                else:\n",
    "                    result[c] = 1\n",
    "        \n",
    "    return result"
   ]
  },
  {
   "cell_type": "code",
   "execution_count": 65,
   "metadata": {},
   "outputs": [
    {
     "data": {
      "text/plain": [
       "{'e': 1, 'o': 2}"
      ]
     },
     "execution_count": 65,
     "metadata": {},
     "output_type": "execute_result"
    }
   ],
   "source": [
    "vowel_count('hello world')"
   ]
  },
  {
   "cell_type": "code",
   "execution_count": 66,
   "metadata": {},
   "outputs": [
    {
     "data": {
      "text/plain": [
       "{'o': 2, 'a': 1, 'e': 1, 'u': 1}"
      ]
     },
     "execution_count": 66,
     "metadata": {},
     "output_type": "execute_result"
    }
   ],
   "source": [
    "vowel_count(\"HOw are you\")"
   ]
  },
  {
   "cell_type": "code",
   "execution_count": 68,
   "metadata": {},
   "outputs": [
    {
     "name": "stdout",
     "output_type": "stream",
     "text": [
      "[1, 4, 9]\n"
     ]
    }
   ],
   "source": [
    "# square all numbers in list\n",
    "numbers = [1,2,3]\n",
    "index = 0\n",
    "while index < len(numbers):\n",
    "    numbers[index] = numbers[index] * numbers[index]\n",
    "    index += 1\n",
    "print(numbers)"
   ]
  },
  {
   "cell_type": "code",
   "execution_count": 70,
   "metadata": {},
   "outputs": [
    {
     "name": "stdout",
     "output_type": "stream",
     "text": [
      "[1, 4, 9]\n"
     ]
    }
   ],
   "source": [
    "numbers = [1,2,3]\n",
    "result = [ item*item for item in numbers]\n",
    "print(result)"
   ]
  },
  {
   "cell_type": "code",
   "execution_count": 71,
   "metadata": {},
   "outputs": [
    {
     "name": "stdout",
     "output_type": "stream",
     "text": [
      "[1, 2, 3, 4, 5, 6, 7, 8, 9, 10, 11, 12, 13, 14, 15, 16, 17, 18, 19]\n"
     ]
    }
   ],
   "source": [
    "# calculate square for all even numbers\n",
    "numbers = list(range(1,20))\n",
    "print(numbers)"
   ]
  },
  {
   "cell_type": "code",
   "execution_count": 73,
   "metadata": {},
   "outputs": [
    {
     "name": "stdout",
     "output_type": "stream",
     "text": [
      "[4, 16, 36, 64, 100, 144, 196, 256, 324]\n"
     ]
    }
   ],
   "source": [
    "numbers = list(range(1,20))\n",
    "index = 0\n",
    "new_numbers = []\n",
    "while index < len(numbers):\n",
    "    if numbers[index] % 2 == 0:\n",
    "        new_numbers.append (numbers[index] * numbers[index])\n",
    "    index += 1\n",
    "print(new_numbers)"
   ]
  },
  {
   "cell_type": "code",
   "execution_count": 74,
   "metadata": {},
   "outputs": [
    {
     "data": {
      "text/plain": [
       "[4, 16, 36, 64, 100, 144, 196, 256, 324]"
      ]
     },
     "execution_count": 74,
     "metadata": {},
     "output_type": "execute_result"
    }
   ],
   "source": [
    "[ item * item for item in range(1,20) if item%2 == 0 ]"
   ]
  },
  {
   "cell_type": "code",
   "execution_count": 76,
   "metadata": {},
   "outputs": [],
   "source": [
    "# Dictionary comprehension\n",
    "prices = { 'milk': 1.02, 'eggs': 2.5}"
   ]
  },
  {
   "cell_type": "code",
   "execution_count": 77,
   "metadata": {},
   "outputs": [
    {
     "data": {
      "text/plain": [
       "{'milk': 84.66, 'eggs': 207.5}"
      ]
     },
     "execution_count": 77,
     "metadata": {},
     "output_type": "execute_result"
    }
   ],
   "source": [
    "# lets convert price into rupees\n",
    "{ k: v*83 for (k,v) in prices.items() }"
   ]
  },
  {
   "cell_type": "code",
   "execution_count": 85,
   "metadata": {},
   "outputs": [],
   "source": [
    "inventory = { 'keyboard': 0, 'mouse': 10, 'printers': 5 }"
   ]
  },
  {
   "cell_type": "code",
   "execution_count": 86,
   "metadata": {},
   "outputs": [
    {
     "data": {
      "text/plain": [
       "{'keyboard': 0}"
      ]
     },
     "execution_count": 86,
     "metadata": {},
     "output_type": "execute_result"
    }
   ],
   "source": [
    "# find all times where there is no stock\n",
    "{ name: stock for (name, stock) in inventory.items() if stock == 0 }"
   ]
  },
  {
   "cell_type": "code",
   "execution_count": 87,
   "metadata": {},
   "outputs": [
    {
     "data": {
      "text/plain": [
       "['keyboard']"
      ]
     },
     "execution_count": 87,
     "metadata": {},
     "output_type": "execute_result"
    }
   ],
   "source": [
    "[name for (name, stock) in inventory.items() if stock ==0 ]"
   ]
  },
  {
   "cell_type": "markdown",
   "metadata": {},
   "source": [
    "# Lets revisit vowel count"
   ]
  },
  {
   "cell_type": "code",
   "execution_count": 88,
   "metadata": {},
   "outputs": [],
   "source": [
    "def vowel_count(s):\n",
    "    \"\"\"This function will take string and return vowel count\n",
    "\n",
    "    Args:\n",
    "        s (str): text passed\n",
    "\n",
    "    Returns:\n",
    "        dict: vowel and its count\n",
    "    \"\"\"\n",
    "    result = { }\n",
    "    s = s.lower()\n",
    "    VOWELS = \"aeiou\"\n",
    "    for c in s:\n",
    "        for vowel in VOWELS:\n",
    "            if c == vowel:\n",
    "                if c in result:\n",
    "                    result[c] += 1\n",
    "                else:\n",
    "                    result[c] = 1\n",
    "        \n",
    "    return result"
   ]
  },
  {
   "cell_type": "code",
   "execution_count": 93,
   "metadata": {},
   "outputs": [
    {
     "name": "stdout",
     "output_type": "stream",
     "text": [
      "Counter({'l': 3, 'o': 2, 'h': 1, 'e': 1, ' ': 1, 'w': 1, 'r': 1, 'd': 1})\n"
     ]
    }
   ],
   "source": [
    "# Counter\n",
    "from collections import Counter\n",
    "\n",
    "# Step 2: Create a string\n",
    "input_string = \"hello world\"\n",
    "\n",
    "# Step 3: Use Counter to count characters\n",
    "character_count = Counter(input_string)\n",
    "\n",
    "# Print the result\n",
    "print(character_count)"
   ]
  },
  {
   "cell_type": "code",
   "execution_count": 95,
   "metadata": {},
   "outputs": [
    {
     "data": {
      "text/plain": [
       "{'e': 1, 'o': 2}"
      ]
     },
     "execution_count": 95,
     "metadata": {},
     "output_type": "execute_result"
    }
   ],
   "source": [
    "{k:v for (k,v) in character_count.items() if k in 'aeiou' }"
   ]
  },
  {
   "cell_type": "code",
   "execution_count": 97,
   "metadata": {},
   "outputs": [],
   "source": [
    "from collections import Counter\n",
    "def vowel_count(s):\n",
    "    \"\"\"This function will take string and return vowel count\n",
    "\n",
    "    Args:\n",
    "        s (str): text passed\n",
    "\n",
    "    Returns:\n",
    "        dict: vowel and its count\n",
    "    \"\"\"\n",
    "    character_count = Counter(s)\n",
    "    return {\n",
    "        character:count \n",
    "        for (character,count) in character_count.items() \n",
    "        if character in 'aeiou' }"
   ]
  },
  {
   "cell_type": "code",
   "execution_count": 98,
   "metadata": {},
   "outputs": [
    {
     "data": {
      "text/plain": [
       "{'e': 1, 'o': 2}"
      ]
     },
     "execution_count": 98,
     "metadata": {},
     "output_type": "execute_result"
    }
   ],
   "source": [
    "vowel_count(\"hello world\")"
   ]
  }
 ],
 "metadata": {
  "kernelspec": {
   "display_name": "Python 3",
   "language": "python",
   "name": "python3"
  },
  "language_info": {
   "codemirror_mode": {
    "name": "ipython",
    "version": 3
   },
   "file_extension": ".py",
   "mimetype": "text/x-python",
   "name": "python",
   "nbconvert_exporter": "python",
   "pygments_lexer": "ipython3",
   "version": "3.11.4"
  }
 },
 "nbformat": 4,
 "nbformat_minor": 2
}
