{
 "cells": [
  {
   "cell_type": "code",
   "execution_count": 16,
   "metadata": {},
   "outputs": [],
   "source": [
    "resume = {\n",
    "    'careerobjective': 'Results-driven DevOps Engineer with 6 years of experience in implementing scalable solutions and optimizing CI/CD pipelines, seeking to contribute by improving system reliability and deployment speed.',\n",
    "    'professionalsummary': \"Over 6+ years of IT Industry experience as a DevOps Engineer, with Configuration Management, Build, Release Management and Quality Assurance using CVS, Subversion, GIT, Mercurial & Clear Quest on UNIX and Windows environment. Knowledge of puppet as a Configuration Management tool, to automate repetitive tasks, quickly deploy critical applications, and proactively manage change. Set up the framework for one clicks build and deployment on non-production environments\",\n",
    "    'skills': {\n",
    "        'Servers': ['Tomcat','HTTP Server', 'Weblogic'],\n",
    "        'Bug Reporting Tools': ['SDM-12', 'BugZilla', 'JIRA', 'Confluence', 'Rational Clear Quest'],\n",
    "        'DevOps': ['Chef', 'Puppet', 'OpenStack', 'AWS', 'Ansible', 'Docker', 'Vagrant']\n",
    "    }\n",
    "\n",
    "}"
   ]
  },
  {
   "cell_type": "code",
   "execution_count": 17,
   "metadata": {},
   "outputs": [
    {
     "data": {
      "text/plain": [
       "['Chef', 'Puppet', 'OpenStack', 'AWS', 'Ansible', 'Docker', 'Vagrant']"
      ]
     },
     "execution_count": 17,
     "metadata": {},
     "output_type": "execute_result"
    }
   ],
   "source": [
    "resume['skills']['DevOps']"
   ]
  },
  {
   "cell_type": "code",
   "execution_count": 18,
   "metadata": {},
   "outputs": [
    {
     "name": "stdout",
     "output_type": "stream",
     "text": [
      "{\"careerobjective\": \"Results-driven DevOps Engineer with 6 years of experience in implementing scalable solutions and optimizing CI/CD pipelines, seeking to contribute by improving system reliability and deployment speed.\", \"professionalsummary\": \"Over 6+ years of IT Industry experience as a DevOps Engineer, with Configuration Management, Build, Release Management and Quality Assurance using CVS, Subversion, GIT, Mercurial & Clear Quest on UNIX and Windows environment. Knowledge of puppet as a Configuration Management tool, to automate repetitive tasks, quickly deploy critical applications, and proactively manage change. Set up the framework for one clicks build and deployment on non-production environments\", \"skills\": {\"Servers\": [\"Tomcat\", \"HTTP Server\", \"Weblogic\"], \"Bug Reporting Tools\": [\"SDM-12\", \"BugZilla\", \"JIRA\", \"Confluence\", \"Rational Clear Quest\"], \"DevOps\": [\"Chef\", \"Puppet\", \"OpenStack\", \"AWS\", \"Ansible\", \"Docker\", \"Vagrant\"]}}\n"
     ]
    }
   ],
   "source": [
    "# lets convert this dictionary into json format\n",
    "import json\n",
    "print(json.dumps(resume))"
   ]
  },
  {
   "cell_type": "code",
   "execution_count": 19,
   "metadata": {},
   "outputs": [
    {
     "name": "stdout",
     "output_type": "stream",
     "text": [
      "{\n",
      "    \"careerobjective\": \"Results-driven DevOps Engineer with 6 years of experience in implementing scalable solutions and optimizing CI/CD pipelines, seeking to contribute by improving system reliability and deployment speed.\",\n",
      "    \"professionalsummary\": \"Over 6+ years of IT Industry experience as a DevOps Engineer, with Configuration Management, Build, Release Management and Quality Assurance using CVS, Subversion, GIT, Mercurial & Clear Quest on UNIX and Windows environment. Knowledge of puppet as a Configuration Management tool, to automate repetitive tasks, quickly deploy critical applications, and proactively manage change. Set up the framework for one clicks build and deployment on non-production environments\",\n",
      "    \"skills\": {\n",
      "        \"Servers\": [\n",
      "            \"Tomcat\",\n",
      "            \"HTTP Server\",\n",
      "            \"Weblogic\"\n",
      "        ],\n",
      "        \"Bug Reporting Tools\": [\n",
      "            \"SDM-12\",\n",
      "            \"BugZilla\",\n",
      "            \"JIRA\",\n",
      "            \"Confluence\",\n",
      "            \"Rational Clear Quest\"\n",
      "        ],\n",
      "        \"DevOps\": [\n",
      "            \"Chef\",\n",
      "            \"Puppet\",\n",
      "            \"OpenStack\",\n",
      "            \"AWS\",\n",
      "            \"Ansible\",\n",
      "            \"Docker\",\n",
      "            \"Vagrant\"\n",
      "        ]\n",
      "    }\n",
      "}\n"
     ]
    }
   ],
   "source": [
    "print(json.dumps(resume,indent=4))"
   ]
  },
  {
   "cell_type": "code",
   "execution_count": 20,
   "metadata": {},
   "outputs": [],
   "source": [
    "with open(\"resume.json\", \"w\") as json_file:\n",
    "    json.dump(resume, json_file,indent=4)\n"
   ]
  },
  {
   "cell_type": "code",
   "execution_count": 21,
   "metadata": {},
   "outputs": [
    {
     "name": "stdout",
     "output_type": "stream",
     "text": [
      "Requirement already satisfied: pyyaml in c:\\python311\\lib\\site-packages (6.0.1)\n"
     ]
    }
   ],
   "source": [
    "!pip install pyyaml"
   ]
  },
  {
   "cell_type": "code",
   "execution_count": 22,
   "metadata": {},
   "outputs": [],
   "source": [
    "import yaml\n"
   ]
  },
  {
   "cell_type": "code",
   "execution_count": 24,
   "metadata": {},
   "outputs": [],
   "source": [
    "with open(\"resume.yaml\", \"w\") as yaml_file:\n",
    "    yaml.dump(resume,yaml_file)\n"
   ]
  },
  {
   "cell_type": "code",
   "execution_count": 27,
   "metadata": {},
   "outputs": [
    {
     "name": "stdout",
     "output_type": "stream",
     "text": [
      "<class 'dict'>\n",
      "{'a': 5, 'b': 10}\n"
     ]
    }
   ],
   "source": [
    "# Read from json file\n",
    "with open(\"inputs.json\", \"r\") as json_file:\n",
    "    inputs = json.load(json_file)\n",
    "    print(type(inputs))\n",
    "    print(inputs)\n"
   ]
  },
  {
   "cell_type": "code",
   "execution_count": 29,
   "metadata": {},
   "outputs": [
    {
     "name": "stdout",
     "output_type": "stream",
     "text": [
      "<class 'dict'>\n",
      "{'a': 5, 'b': 10}\n"
     ]
    }
   ],
   "source": [
    "with open(\"inputs.yaml\", \"r\") as yaml_file:\n",
    "    inputs = yaml.load(yaml_file,Loader=yaml.FullLoader)\n",
    "    print(type(inputs))\n",
    "    print(inputs)"
   ]
  },
  {
   "cell_type": "code",
   "execution_count": 30,
   "metadata": {},
   "outputs": [],
   "source": [
    "# lets read the vpcs.json\n",
    "vpc_dict = {}\n",
    "with open(\"vpcs.json\", \"r\") as json_file:\n",
    "    vpc_dict = json.load(json_file)"
   ]
  },
  {
   "cell_type": "code",
   "execution_count": 34,
   "metadata": {},
   "outputs": [
    {
     "data": {
      "text/plain": [
       "'vpc-06e49f59e4246fd88'"
      ]
     },
     "execution_count": 34,
     "metadata": {},
     "output_type": "execute_result"
    }
   ],
   "source": [
    "vpc_dict['Vpcs'][0]['VpcId']"
   ]
  },
  {
   "cell_type": "code",
   "execution_count": 35,
   "metadata": {},
   "outputs": [],
   "source": [
    "vpc_dict = {}\n",
    "with open(\"vpcs.yaml\", \"r\") as yaml_file:\n",
    "    vpc_dict = yaml.load(yaml_file, Loader=yaml.FullLoader)"
   ]
  },
  {
   "cell_type": "code",
   "execution_count": 36,
   "metadata": {},
   "outputs": [
    {
     "data": {
      "text/plain": [
       "'vpc-06e49f59e4246fd88'"
      ]
     },
     "execution_count": 36,
     "metadata": {},
     "output_type": "execute_result"
    }
   ],
   "source": [
    "vpc_dict['Vpcs'][0]['VpcId']"
   ]
  }
 ],
 "metadata": {
  "kernelspec": {
   "display_name": "Python 3",
   "language": "python",
   "name": "python3"
  },
  "language_info": {
   "codemirror_mode": {
    "name": "ipython",
    "version": 3
   },
   "file_extension": ".py",
   "mimetype": "text/x-python",
   "name": "python",
   "nbconvert_exporter": "python",
   "pygments_lexer": "ipython3",
   "version": "3.11.4"
  }
 },
 "nbformat": 4,
 "nbformat_minor": 2
}
