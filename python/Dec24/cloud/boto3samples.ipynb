{
 "cells": [
  {
   "cell_type": "markdown",
   "metadata": {},
   "source": [
    "# Boto3"
   ]
  },
  {
   "cell_type": "markdown",
   "metadata": {},
   "source": [
    "## listing s3 buckets"
   ]
  },
  {
   "cell_type": "code",
   "execution_count": 14,
   "metadata": {},
   "outputs": [],
   "source": [
    "import boto3"
   ]
  },
  {
   "cell_type": "code",
   "execution_count": 15,
   "metadata": {},
   "outputs": [
    {
     "data": {
      "text/plain": [
       "botocore.client.S3"
      ]
     },
     "execution_count": 15,
     "metadata": {},
     "output_type": "execute_result"
    }
   ],
   "source": [
    "# get buckets using client\n",
    "s3 = boto3.client('s3')\n",
    "type(s3)"
   ]
  },
  {
   "cell_type": "code",
   "execution_count": 16,
   "metadata": {},
   "outputs": [
    {
     "data": {
      "text/plain": [
       "dict"
      ]
     },
     "execution_count": 16,
     "metadata": {},
     "output_type": "execute_result"
    }
   ],
   "source": [
    "buckets_list = s3.list_buckets()\n",
    "type(buckets_list)"
   ]
  },
  {
   "cell_type": "markdown",
   "metadata": {},
   "source": [
    "# Response syntax according to documentation\n",
    "```python\n",
    "{\n",
    "    'Buckets': [\n",
    "        {\n",
    "            'Name': 'string',\n",
    "            'CreationDate': datetime(2015, 1, 1),\n",
    "            'BucketRegion': 'string'\n",
    "        },\n",
    "    ],\n",
    "    'Owner': {\n",
    "        'DisplayName': 'string',\n",
    "        'ID': 'string'\n",
    "    },\n",
    "    'ContinuationToken': 'string',\n",
    "    'Prefix': 'string'\n",
    "}\n",
    "```"
   ]
  },
  {
   "cell_type": "code",
   "execution_count": 17,
   "metadata": {},
   "outputs": [
    {
     "name": "stdout",
     "output_type": "stream",
     "text": [
      "aws-quicksetup-patchpolicy-381491878286-obkh6\n",
      "aws-quicksetup-patchpolicy-381491878286-slrzx\n",
      "aws-quicksetup-patchpolicy-access-log-381491878286-956d-obkh6\n",
      "aws-quicksetup-patchpolicy-access-log-381491878286-9d80-slrzx\n",
      "elasticbeanstalk-ap-south-1-381491878286\n",
      "ltdemoforde\n",
      "referenceappslt\n"
     ]
    }
   ],
   "source": [
    "for bucket_dict in buckets_list['Buckets']:\n",
    "    print(bucket_dict['Name'])"
   ]
  },
  {
   "cell_type": "code",
   "execution_count": 18,
   "metadata": {},
   "outputs": [
    {
     "data": {
      "text/plain": [
       "boto3.resources.factory.s3.ServiceResource"
      ]
     },
     "execution_count": 18,
     "metadata": {},
     "output_type": "execute_result"
    }
   ],
   "source": [
    "# get buckets using Resource\n",
    "s3_resource = boto3.resource('s3')\n",
    "type(s3_resource)"
   ]
  },
  {
   "cell_type": "code",
   "execution_count": 19,
   "metadata": {},
   "outputs": [
    {
     "data": {
      "text/plain": [
       "boto3.resources.collection.s3.bucketsCollectionManager"
      ]
     },
     "execution_count": 19,
     "metadata": {},
     "output_type": "execute_result"
    }
   ],
   "source": [
    "type(s3_resource.buckets)"
   ]
  },
  {
   "cell_type": "code",
   "execution_count": 20,
   "metadata": {},
   "outputs": [
    {
     "name": "stdout",
     "output_type": "stream",
     "text": [
      "aws-quicksetup-patchpolicy-381491878286-obkh6\n",
      "aws-quicksetup-patchpolicy-381491878286-slrzx\n",
      "aws-quicksetup-patchpolicy-access-log-381491878286-956d-obkh6\n",
      "aws-quicksetup-patchpolicy-access-log-381491878286-9d80-slrzx\n",
      "elasticbeanstalk-ap-south-1-381491878286\n",
      "ltdemoforde\n",
      "referenceappslt\n"
     ]
    }
   ],
   "source": [
    "for bucket in s3_resource.buckets.all():\n",
    "    print(bucket.name)"
   ]
  },
  {
   "cell_type": "markdown",
   "metadata": {},
   "source": [
    "# Dealing with ec2 instances"
   ]
  },
  {
   "cell_type": "code",
   "execution_count": null,
   "metadata": {},
   "outputs": [],
   "source": [
    "# Get all ec2 instances in a region\n",
    "# create a client"
   ]
  },
  {
   "cell_type": "code",
   "execution_count": 21,
   "metadata": {},
   "outputs": [
    {
     "data": {
      "text/plain": [
       "botocore.client.EC2"
      ]
     },
     "execution_count": 21,
     "metadata": {},
     "output_type": "execute_result"
    }
   ],
   "source": [
    "ec2 = boto3.client('ec2')\n",
    "type(ec2)"
   ]
  },
  {
   "cell_type": "code",
   "execution_count": 24,
   "metadata": {},
   "outputs": [
    {
     "name": "stdout",
     "output_type": "stream",
     "text": [
      "[{'Architecture': 'x86_64', 'BlockDeviceMappings': [{'DeviceName': '/dev/sda1', 'Ebs': {'AttachTime': datetime.datetime(2024, 12, 29, 4, 8, 43, tzinfo=tzutc()), 'DeleteOnTermination': True, 'Status': 'attached', 'VolumeId': 'vol-03b828b5e67b28126'}}], 'ClientToken': '3bc189a3-30ee-4c0a-99ba-a88d3224fa31', 'EbsOptimized': False, 'EnaSupport': True, 'Hypervisor': 'xen', 'IamInstanceProfile': {'Arn': 'arn:aws:iam::381491878286:instance-profile/AmazonSSMRoleForInstancesQuickSetup', 'Id': 'AIPAVRUVQDGHMIDUL3EVZ'}, 'NetworkInterfaces': [{'Association': {'IpOwnerId': 'amazon', 'PublicDnsName': 'ec2-13-232-219-84.ap-south-1.compute.amazonaws.com', 'PublicIp': '13.232.219.84'}, 'Attachment': {'AttachTime': datetime.datetime(2024, 12, 29, 4, 8, 42, tzinfo=tzutc()), 'AttachmentId': 'eni-attach-0c28eda619f859218', 'DeleteOnTermination': True, 'DeviceIndex': 0, 'Status': 'attached', 'NetworkCardIndex': 0}, 'Description': '', 'Groups': [{'GroupId': 'sg-0d5e1d050458bed07', 'GroupName': 'launch-wizard-5'}], 'Ipv6Addresses': [], 'MacAddress': '0a:84:87:0f:80:bf', 'NetworkInterfaceId': 'eni-059ca8129f3749285', 'OwnerId': '381491878286', 'PrivateDnsName': 'ip-172-31-13-130.ap-south-1.compute.internal', 'PrivateIpAddress': '172.31.13.130', 'PrivateIpAddresses': [{'Association': {'IpOwnerId': 'amazon', 'PublicDnsName': 'ec2-13-232-219-84.ap-south-1.compute.amazonaws.com', 'PublicIp': '13.232.219.84'}, 'Primary': True, 'PrivateDnsName': 'ip-172-31-13-130.ap-south-1.compute.internal', 'PrivateIpAddress': '172.31.13.130'}], 'SourceDestCheck': True, 'Status': 'in-use', 'SubnetId': 'subnet-04b2161fd78085216', 'VpcId': 'vpc-06e49f59e4246fd88', 'InterfaceType': 'interface', 'Operator': {'Managed': False}}], 'RootDeviceName': '/dev/sda1', 'RootDeviceType': 'ebs', 'SecurityGroups': [{'GroupId': 'sg-0d5e1d050458bed07', 'GroupName': 'launch-wizard-5'}], 'SourceDestCheck': True, 'Tags': [{'Key': 'Name', 'Value': 'test'}], 'VirtualizationType': 'hvm', 'CpuOptions': {'CoreCount': 1, 'ThreadsPerCore': 1}, 'CapacityReservationSpecification': {'CapacityReservationPreference': 'open'}, 'HibernationOptions': {'Configured': False}, 'MetadataOptions': {'State': 'applied', 'HttpTokens': 'required', 'HttpPutResponseHopLimit': 2, 'HttpEndpoint': 'enabled', 'HttpProtocolIpv6': 'disabled', 'InstanceMetadataTags': 'disabled'}, 'EnclaveOptions': {'Enabled': False}, 'BootMode': 'uefi-preferred', 'PlatformDetails': 'Linux/UNIX', 'UsageOperation': 'RunInstances', 'UsageOperationUpdateTime': datetime.datetime(2024, 12, 29, 4, 8, 42, tzinfo=tzutc()), 'PrivateDnsNameOptions': {'HostnameType': 'ip-name', 'EnableResourceNameDnsARecord': True, 'EnableResourceNameDnsAAAARecord': False}, 'MaintenanceOptions': {'AutoRecovery': 'default'}, 'CurrentInstanceBootMode': 'legacy-bios', 'NetworkPerformanceOptions': {'BandwidthWeighting': 'default'}, 'Operator': {'Managed': False}, 'InstanceId': 'i-03717ba8d47771db1', 'ImageId': 'ami-053b12d3152c0cc71', 'State': {'Code': 16, 'Name': 'running'}, 'PrivateDnsName': 'ip-172-31-13-130.ap-south-1.compute.internal', 'PublicDnsName': 'ec2-13-232-219-84.ap-south-1.compute.amazonaws.com', 'StateTransitionReason': '', 'KeyName': 'my_idrsa', 'AmiLaunchIndex': 0, 'ProductCodes': [], 'InstanceType': 't2.micro', 'LaunchTime': datetime.datetime(2024, 12, 29, 4, 8, 42, tzinfo=tzutc()), 'Placement': {'GroupName': '', 'Tenancy': 'default', 'AvailabilityZone': 'ap-south-1b'}, 'Monitoring': {'State': 'disabled'}, 'SubnetId': 'subnet-04b2161fd78085216', 'VpcId': 'vpc-06e49f59e4246fd88', 'PrivateIpAddress': '172.31.13.130', 'PublicIpAddress': '13.232.219.84'}]\n"
     ]
    }
   ],
   "source": [
    "instances_dict = ec2.describe_instances()\n",
    "instances = instances_dict['Reservations'][0]['Instances']\n",
    "print(instances)"
   ]
  },
  {
   "cell_type": "code",
   "execution_count": 30,
   "metadata": {},
   "outputs": [
    {
     "name": "stdout",
     "output_type": "stream",
     "text": [
      "id = i-03717ba8d47771db1 \n",
      "hostname = ec2-13-232-219-84.ap-south-1.compute.amazonaws.com\n"
     ]
    }
   ],
   "source": [
    "for instance in instances:\n",
    "    print(f\"id = {instance['InstanceId']} \\nhostname = {instance['PublicDnsName']}\")"
   ]
  },
  {
   "cell_type": "code",
   "execution_count": 31,
   "metadata": {},
   "outputs": [
    {
     "data": {
      "text/plain": [
       "boto3.resources.factory.ec2.ServiceResource"
      ]
     },
     "execution_count": 31,
     "metadata": {},
     "output_type": "execute_result"
    }
   ],
   "source": [
    "# Get ec2 instances by Resource\n",
    "ec2_Resource = boto3.resource('ec2')\n",
    "type(ec2_Resource)"
   ]
  },
  {
   "cell_type": "code",
   "execution_count": 40,
   "metadata": {},
   "outputs": [
    {
     "name": "stdout",
     "output_type": "stream",
     "text": [
      "id = i-03717ba8d47771db1\n",
      "ip = 43.204.98.140\n"
     ]
    }
   ],
   "source": [
    "for instance in ec2_Resource.instances.all():\n",
    "    print(f\"id = {instance.id}\")\n",
    "    print(f\"ip = {instance.public_ip_address}\")\n",
    "    #instance.start()\n",
    "    #instance.stop()"
   ]
  },
  {
   "cell_type": "code",
   "execution_count": 3,
   "metadata": {},
   "outputs": [
    {
     "data": {
      "text/plain": [
       "boto3.resources.factory.dynamodb.Table"
      ]
     },
     "execution_count": 3,
     "metadata": {},
     "output_type": "execute_result"
    }
   ],
   "source": [
    "# boto3 code to get table products\n",
    "import boto3\n",
    "dynamo_db = boto3.resource('dynamodb')\n",
    "products_table = dynamo_db.Table('products')\n",
    "type(products_table)"
   ]
  },
  {
   "cell_type": "code",
   "execution_count": 44,
   "metadata": {},
   "outputs": [
    {
     "data": {
      "text/plain": [
       "{'ResponseMetadata': {'RequestId': '6NI3PRBC2KSDKNPIR086D1CG4RVV4KQNSO5AEMVJF66Q9ASUAAJG',\n",
       "  'HTTPStatusCode': 200,\n",
       "  'HTTPHeaders': {'server': 'Server',\n",
       "   'date': 'Sun, 29 Dec 2024 04:54:37 GMT',\n",
       "   'content-type': 'application/x-amz-json-1.0',\n",
       "   'content-length': '2',\n",
       "   'connection': 'keep-alive',\n",
       "   'x-amzn-requestid': '6NI3PRBC2KSDKNPIR086D1CG4RVV4KQNSO5AEMVJF66Q9ASUAAJG',\n",
       "   'x-amz-crc32': '2745614147'},\n",
       "  'RetryAttempts': 0}}"
      ]
     },
     "execution_count": 44,
     "metadata": {},
     "output_type": "execute_result"
    }
   ],
   "source": [
    "# insert data into products\n",
    "products_table.put_item(\n",
    "    Item = {\n",
    "        'id' : \"1\",\n",
    "        \"name\" : \"Dell Lattitue\",\n",
    "        \"sku\": \"E3579\",\n",
    "        \"stock\": 100,\n",
    "        \"price\": 100000,\n",
    "        \"description\": \"lattitue business laptop\"\n",
    "    }\n",
    ")\n"
   ]
  },
  {
   "cell_type": "code",
   "execution_count": 5,
   "metadata": {},
   "outputs": [
    {
     "name": "stdout",
     "output_type": "stream",
     "text": [
      "{'stock': Decimal('100'), 'description': 'lattitue business laptop', 'id': '1', 'price': Decimal('100000'), 'name': 'Dell Lattitue', 'sku': 'E3579'}\n"
     ]
    }
   ],
   "source": [
    "# get data from products\n",
    "product = products_table.get_item(\n",
    "    Key = {\"id\": \"1\" }\n",
    ")\n",
    "print(product['Item'])\n"
   ]
  },
  {
   "cell_type": "markdown",
   "metadata": {},
   "source": [
    "# Exercise\n",
    "* update data from products\n",
    "* delete data from products"
   ]
  }
 ],
 "metadata": {
  "kernelspec": {
   "display_name": "venv",
   "language": "python",
   "name": "python3"
  },
  "language_info": {
   "codemirror_mode": {
    "name": "ipython",
    "version": 3
   },
   "file_extension": ".py",
   "mimetype": "text/x-python",
   "name": "python",
   "nbconvert_exporter": "python",
   "pygments_lexer": "ipython3",
   "version": "3.11.4"
  }
 },
 "nbformat": 4,
 "nbformat_minor": 2
}
