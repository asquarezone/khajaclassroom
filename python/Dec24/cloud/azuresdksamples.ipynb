{
 "cells": [
  {
   "cell_type": "markdown",
   "metadata": {},
   "source": [
    "# Azure SDK for python"
   ]
  },
  {
   "cell_type": "markdown",
   "metadata": {},
   "source": [
    "## Identity\n",
    "\n",
    "* Preferably use DefaultAzureCredential"
   ]
  },
  {
   "cell_type": "code",
   "execution_count": 1,
   "metadata": {},
   "outputs": [
    {
     "data": {
      "text/plain": [
       "azure.identity._credentials.default.DefaultAzureCredential"
      ]
     },
     "execution_count": 1,
     "metadata": {},
     "output_type": "execute_result"
    }
   ],
   "source": [
    "# get crdentials\n",
    "from azure.identity import DefaultAzureCredential\n",
    "credential = DefaultAzureCredential()\n",
    "type(credential)"
   ]
  },
  {
   "cell_type": "code",
   "execution_count": null,
   "metadata": {},
   "outputs": [],
   "source": [
    "# Create a Resource Group Management Client\n",
    "from azure.mgmt.resource import ResourceManagementClient\n",
    "client = ResourceManagementClient(credential, subscription_id=\"7ee23928-6bf0-4a1b-xxxxx\")"
   ]
  },
  {
   "cell_type": "code",
   "execution_count": 6,
   "metadata": {},
   "outputs": [
    {
     "name": "stdout",
     "output_type": "stream",
     "text": [
      "NetworkWatcherRG\n",
      "cloud-shell-storage-centralindia\n",
      "DefaultResourceGroup-CID\n",
      "VisualStudioOnline-BE173F6297CE4DA3A95423327D3E2560\n",
      "ssh\n",
      "DefaultResourceGroup-EUS\n",
      "functionsdemo\n"
     ]
    }
   ],
   "source": [
    "groups = client.resource_groups\n",
    "for group in groups.list():\n",
    "    print(group.name)"
   ]
  }
 ],
 "metadata": {
  "kernelspec": {
   "display_name": "venv",
   "language": "python",
   "name": "python3"
  },
  "language_info": {
   "codemirror_mode": {
    "name": "ipython",
    "version": 3
   },
   "file_extension": ".py",
   "mimetype": "text/x-python",
   "name": "python",
   "nbconvert_exporter": "python",
   "pygments_lexer": "ipython3",
   "version": "3.11.4"
  }
 },
 "nbformat": 4,
 "nbformat_minor": 2
}
