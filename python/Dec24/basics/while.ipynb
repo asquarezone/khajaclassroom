{
 "cells": [
  {
   "cell_type": "markdown",
   "metadata": {},
   "source": [
    "# While loops\n",
    "\n",
    "* syntax\n",
    "```\n",
    "while <conditional_expression>:\n",
    "   block\n",
    "```\n",
    "* The block executes as long as conditional expression is true"
   ]
  },
  {
   "cell_type": "code",
   "execution_count": 1,
   "metadata": {},
   "outputs": [
    {
     "name": "stdout",
     "output_type": "stream",
     "text": [
      "1\n",
      "2\n",
      "3\n",
      "4\n",
      "5\n"
     ]
    }
   ],
   "source": [
    "start = 1\n",
    "end = 5\n",
    "while start <= end:\n",
    "    print(start)\n",
    "    start += 1\n",
    "  "
   ]
  },
  {
   "cell_type": "code",
   "execution_count": null,
   "metadata": {},
   "outputs": [],
   "source": [
    "# infinite loop\n",
    "start = 1\n",
    "end = 5\n",
    "while start <= end:\n",
    "    print(start)"
   ]
  },
  {
   "cell_type": "code",
   "execution_count": 2,
   "metadata": {},
   "outputs": [
    {
     "name": "stdout",
     "output_type": "stream",
     "text": [
      "2\n",
      "4\n",
      "6\n",
      "8\n",
      "10\n"
     ]
    }
   ],
   "source": [
    "# break and continue\n",
    "# print all even numbers below 10\n",
    "start = 1\n",
    "while start <= 10:\n",
    "    if start%2 == 0:\n",
    "        print(start)\n",
    "    start += 1"
   ]
  },
  {
   "cell_type": "code",
   "execution_count": null,
   "metadata": {},
   "outputs": [
    {
     "name": "stdout",
     "output_type": "stream",
     "text": [
      "2\n",
      "4\n",
      "Finished\n"
     ]
    }
   ],
   "source": [
    "# break and continue\n",
    "# print all even numbers below 10\n",
    "start = 1\n",
    "max = 4\n",
    "while True:\n",
    "    if start > max:\n",
    "        break\n",
    "    elif start%2 == 0:\n",
    "        print(start)\n",
    "    start += 1\n",
    "print(\"Finished\")"
   ]
  },
  {
   "cell_type": "code",
   "execution_count": 9,
   "metadata": {},
   "outputs": [
    {
     "name": "stdout",
     "output_type": "stream",
     "text": [
      "233168\n"
     ]
    }
   ],
   "source": [
    "# Project Euler 1\n",
    "max = 1000\n",
    "start = 1\n",
    "sum = 0\n",
    "while start < max:\n",
    "    if start % 3 == 0 or start % 5 == 0:\n",
    "        sum += start\n",
    "    start += 1\n",
    "print(sum)\n"
   ]
  },
  {
   "cell_type": "code",
   "execution_count": null,
   "metadata": {},
   "outputs": [
    {
     "name": "stdout",
     "output_type": "stream",
     "text": [
      "44\n"
     ]
    }
   ],
   "source": [
    "first = 1\n",
    "second = 2\n",
    "result = 2\n",
    "end = 50\n",
    "while first + second < 50:\n",
    "    third = first + second\n",
    "    if third % 2 == 0:\n",
    "        result += third\n",
    "    first = second\n",
    "    second = third\n",
    "print(result)"
   ]
  }
 ],
 "metadata": {
  "kernelspec": {
   "display_name": "Python 3",
   "language": "python",
   "name": "python3"
  },
  "language_info": {
   "codemirror_mode": {
    "name": "ipython",
    "version": 3
   },
   "file_extension": ".py",
   "mimetype": "text/x-python",
   "name": "python",
   "nbconvert_exporter": "python",
   "pygments_lexer": "ipython3",
   "version": "3.11.4"
  }
 },
 "nbformat": 4,
 "nbformat_minor": 2
}
