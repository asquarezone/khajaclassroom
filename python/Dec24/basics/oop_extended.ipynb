{
 "cells": [
  {
   "cell_type": "markdown",
   "metadata": {},
   "source": [
    "# Composition"
   ]
  },
  {
   "cell_type": "code",
   "execution_count": 11,
   "metadata": {},
   "outputs": [],
   "source": [
    "class Engine:\n",
    "    def __init__(self, displacement, power, manufacturer):\n",
    "        self.displacement = displacement\n",
    "        self.power = power\n",
    "        self.manufacturer = manufacturer\n",
    "    \n",
    "    def start(self):\n",
    "        print(\"started\")\n",
    "    \n",
    "    def stop(self):\n",
    "        print(\"stopped\")\n"
   ]
  },
  {
   "cell_type": "code",
   "execution_count": 12,
   "metadata": {},
   "outputs": [],
   "source": [
    "class Car:\n",
    "    def __init__(self, make, model, displacement, power, manufacturer):\n",
    "        self.make = make\n",
    "        self.model = model\n",
    "        # composing engine\n",
    "        self.engine = Engine(displacement, power, manufacturer)\n",
    "\n",
    "    def start(self):\n",
    "        # calls engine methods\n",
    "        self.engine.start()\n",
    "        # self.indicators.turnon\n",
    "    def stop(self):\n",
    "        # calls engine methods\n",
    "        self.engine.stop()"
   ]
  },
  {
   "cell_type": "code",
   "execution_count": 13,
   "metadata": {},
   "outputs": [
    {
     "name": "stdout",
     "output_type": "stream",
     "text": [
      "started\n",
      "stopped\n"
     ]
    }
   ],
   "source": [
    "c1 = Car('Honda', 'city', 1200, 90, 'Honday')\n",
    "c1.start()\n",
    "c1.stop()\n"
   ]
  },
  {
   "cell_type": "code",
   "execution_count": null,
   "metadata": {},
   "outputs": [],
   "source": []
  }
 ],
 "metadata": {
  "kernelspec": {
   "display_name": "Python 3",
   "language": "python",
   "name": "python3"
  },
  "language_info": {
   "codemirror_mode": {
    "name": "ipython",
    "version": 3
   },
   "file_extension": ".py",
   "mimetype": "text/x-python",
   "name": "python",
   "nbconvert_exporter": "python",
   "pygments_lexer": "ipython3",
   "version": "3.11.4"
  }
 },
 "nbformat": 4,
 "nbformat_minor": 2
}
