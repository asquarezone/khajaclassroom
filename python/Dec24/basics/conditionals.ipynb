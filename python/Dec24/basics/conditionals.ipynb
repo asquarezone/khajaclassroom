{
 "cells": [
  {
   "cell_type": "code",
   "execution_count": 1,
   "metadata": {},
   "outputs": [
    {
     "name": "stdout",
     "output_type": "stream",
     "text": [
      "Minor\n",
      "Settle with Aadhar card as of now\n",
      "Give fingerprints once more they might have changed\n"
     ]
    }
   ],
   "source": [
    "age = 13\n",
    "if age >= 18:\n",
    "    print(\"Adult\")\n",
    "    if age >= 21:\n",
    "        print(\"You can be a drinker now legally\")\n",
    "    print(\"Get a drivers license and voter card\")\n",
    "else:\n",
    "    print(\"Minor\")\n",
    "    print(\"Settle with Aadhar card as of now\")\n",
    "    if age >= 6:\n",
    "        print(\"Give fingerprints once more they might have changed\")\n",
    "\n",
    "\n"
   ]
  }
 ],
 "metadata": {
  "kernelspec": {
   "display_name": "Python 3",
   "language": "python",
   "name": "python3"
  },
  "language_info": {
   "codemirror_mode": {
    "name": "ipython",
    "version": 3
   },
   "file_extension": ".py",
   "mimetype": "text/x-python",
   "name": "python",
   "nbconvert_exporter": "python",
   "pygments_lexer": "ipython3",
   "version": "3.11.4"
  }
 },
 "nbformat": 4,
 "nbformat_minor": 2
}
