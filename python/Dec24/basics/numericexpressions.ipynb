{
 "cells": [
  {
   "cell_type": "markdown",
   "metadata": {},
   "source": [
    "# Arthimetic Operators"
   ]
  },
  {
   "cell_type": "code",
   "execution_count": 3,
   "metadata": {},
   "outputs": [
    {
     "name": "stdout",
     "output_type": "stream",
     "text": [
      "78.5\n",
      "78.5\n"
     ]
    }
   ],
   "source": [
    "# Area of circle\n",
    "radius = 5\n",
    "pi = 3.14\n",
    "circle_area = pi * radius * radius\n",
    "print(circle_area)\n",
    "circle_area = pi * radius ** 2\n",
    "print(circle_area)"
   ]
  },
  {
   "cell_type": "code",
   "execution_count": 5,
   "metadata": {},
   "outputs": [
    {
     "name": "stdout",
     "output_type": "stream",
     "text": [
      "30\n",
      "100\n"
     ]
    }
   ],
   "source": [
    "# x + y whole square\n",
    "x = 5\n",
    "y = 5\n",
    "result_1 = x + y ** 2\n",
    "print(result_1)\n",
    "result_2 = (x + y) ** 2\n",
    "print(result_2)"
   ]
  },
  {
   "cell_type": "code",
   "execution_count": 6,
   "metadata": {},
   "outputs": [
    {
     "name": "stdout",
     "output_type": "stream",
     "text": [
      "6\n"
     ]
    }
   ],
   "source": [
    "index = 5\n",
    "# increment index by 1\n",
    "index = index + 1\n",
    "print(index)"
   ]
  },
  {
   "cell_type": "code",
   "execution_count": 7,
   "metadata": {},
   "outputs": [
    {
     "name": "stdout",
     "output_type": "stream",
     "text": [
      "8\n"
     ]
    }
   ],
   "source": [
    "# increment index by 2\n",
    "index += 2\n",
    "print(index)"
   ]
  },
  {
   "cell_type": "code",
   "execution_count": 8,
   "metadata": {},
   "outputs": [
    {
     "name": "stdout",
     "output_type": "stream",
     "text": [
      "40\n"
     ]
    }
   ],
   "source": [
    "# multiply index by 5\n",
    "index *= 5\n",
    "print(index)"
   ]
  },
  {
   "cell_type": "code",
   "execution_count": 11,
   "metadata": {},
   "outputs": [
    {
     "name": "stdout",
     "output_type": "stream",
     "text": [
      "13.88888888888889\n"
     ]
    }
   ],
   "source": [
    "# Temperature converter from farnheit to celcius\n",
    "farnheit = 57\n",
    "degrees = ((farnheit -  32) * 5 )/9\n",
    "print(degrees)"
   ]
  },
  {
   "cell_type": "code",
   "execution_count": 18,
   "metadata": {},
   "outputs": [
    {
     "name": "stdout",
     "output_type": "stream",
     "text": [
      "21486063.766229507\n",
      "26912907.58550443\n"
     ]
    }
   ],
   "source": [
    "# You have 2500000 rupees with you\n",
    "# you have an investment where you get yearly returns of 24%\n",
    "# What would be the value after 10 years\n",
    "n = 1\n",
    "t = 10\n",
    "p = 2500000\n",
    "r = 0.24\n",
    "amount = p * (1 + (r / n) ) ** (n * t)\n",
    "print(amount)\n",
    "n = 12\n",
    "amount = p * (1 + (r / n) ) ** (n * t)\n",
    "print(amount)\n"
   ]
  }
 ],
 "metadata": {
  "kernelspec": {
   "display_name": "Python 3",
   "language": "python",
   "name": "python3"
  },
  "language_info": {
   "codemirror_mode": {
    "name": "ipython",
    "version": 3
   },
   "file_extension": ".py",
   "mimetype": "text/x-python",
   "name": "python",
   "nbconvert_exporter": "python",
   "pygments_lexer": "ipython3",
   "version": "3.11.4"
  }
 },
 "nbformat": 4,
 "nbformat_minor": 2
}
