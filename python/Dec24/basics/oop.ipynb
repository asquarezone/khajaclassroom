{
 "cells": [
  {
   "cell_type": "markdown",
   "metadata": {},
   "source": [
    "# Classes and objects in python"
   ]
  },
  {
   "cell_type": "code",
   "execution_count": 379,
   "metadata": {},
   "outputs": [],
   "source": [
    "class Shape:\n",
    "   \"\"\"This class represents geometric shape \n",
    "\n",
    "   attributes\n",
    "   \"\"\"\n",
    "   pass"
   ]
  },
  {
   "cell_type": "code",
   "execution_count": 380,
   "metadata": {},
   "outputs": [
    {
     "name": "stdout",
     "output_type": "stream",
     "text": [
      "<class '__main__.Shape'>\n",
      "<class '__main__.Shape'>\n",
      "<class 'int'>\n"
     ]
    }
   ],
   "source": [
    "# create object from class\n",
    "s1 = Shape()\n",
    "s2 = Shape()\n",
    "print(type(s1))\n",
    "print(type(s2))\n",
    "number = 5\n",
    "print(type(5))"
   ]
  },
  {
   "cell_type": "code",
   "execution_count": 381,
   "metadata": {},
   "outputs": [],
   "source": [
    "# Class will have members and methods\n",
    "# Class level methods area, perimeter\n",
    "class Rectangle():\n",
    "    def area(l,b):\n",
    "        return l * b\n",
    "    \n",
    "    def perimeter(l,b):\n",
    "        return 2*(l + b)"
   ]
  },
  {
   "cell_type": "code",
   "execution_count": 382,
   "metadata": {},
   "outputs": [
    {
     "name": "stdout",
     "output_type": "stream",
     "text": [
      "100\n",
      "40\n"
     ]
    }
   ],
   "source": [
    "print(Rectangle.area(10,10))\n",
    "print(Rectangle.perimeter(10,10))"
   ]
  },
  {
   "cell_type": "code",
   "execution_count": 383,
   "metadata": {},
   "outputs": [],
   "source": [
    "# instance level methods area, perimeter\n",
    "class Rectangle():\n",
    "    def __init__(self, l, b):\n",
    "        self._l = l\n",
    "        self._b = b\n",
    "    def area(self):\n",
    "        return self._l * self._b\n",
    "    \n",
    "    def perimeter(self):\n",
    "        return 2*(self._l + self._b)"
   ]
  },
  {
   "cell_type": "code",
   "execution_count": 384,
   "metadata": {},
   "outputs": [],
   "source": [
    "r1 = Rectangle(10,10)\n"
   ]
  },
  {
   "cell_type": "code",
   "execution_count": 385,
   "metadata": {},
   "outputs": [
    {
     "data": {
      "text/plain": [
       "100"
      ]
     },
     "execution_count": 385,
     "metadata": {},
     "output_type": "execute_result"
    }
   ],
   "source": [
    "r1.area()"
   ]
  },
  {
   "cell_type": "code",
   "execution_count": 386,
   "metadata": {},
   "outputs": [
    {
     "data": {
      "text/plain": [
       "40"
      ]
     },
     "execution_count": 386,
     "metadata": {},
     "output_type": "execute_result"
    }
   ],
   "source": [
    "r1.perimeter()"
   ]
  },
  {
   "cell_type": "code",
   "execution_count": 387,
   "metadata": {},
   "outputs": [
    {
     "data": {
      "text/plain": [
       "60"
      ]
     },
     "execution_count": 387,
     "metadata": {},
     "output_type": "execute_result"
    }
   ],
   "source": [
    "r2 = Rectangle(10,20)\n",
    "r2.perimeter()"
   ]
  },
  {
   "cell_type": "markdown",
   "metadata": {},
   "source": [
    "* Defining Classes\n",
    "* Creating Objects\n"
   ]
  },
  {
   "cell_type": "code",
   "execution_count": 388,
   "metadata": {},
   "outputs": [],
   "source": [
    "# basic class with no atrributes (members) or methods\n",
    "class Vehicle():\n",
    "    pass"
   ]
  },
  {
   "cell_type": "code",
   "execution_count": 389,
   "metadata": {},
   "outputs": [
    {
     "name": "stdout",
     "output_type": "stream",
     "text": [
      "<class '__main__.Vehicle'>\n"
     ]
    }
   ],
   "source": [
    "# create an object\n",
    "v1 = Vehicle()\n",
    "# lets check the type\n",
    "print(type(v1))"
   ]
  },
  {
   "cell_type": "markdown",
   "metadata": {},
   "source": [
    "* to access members or methods of class we use `.` operator\n",
    "* `r1.area()`"
   ]
  },
  {
   "cell_type": "code",
   "execution_count": 390,
   "metadata": {},
   "outputs": [
    {
     "name": "stdout",
     "output_type": "stream",
     "text": [
      "<__main__.Vehicle object at 0x00000216FDFF2310>\n"
     ]
    }
   ],
   "source": [
    "# Every Class is python is derived from Class object\n",
    "print(v1.__repr__())"
   ]
  },
  {
   "cell_type": "code",
   "execution_count": 391,
   "metadata": {},
   "outputs": [],
   "source": [
    "# create vehicle with object as parent/base class\n",
    "class Vehicle():\n",
    "    # initalizer (initialize members with values)\n",
    "    def __init__(self, make, model):\n",
    "        self.make = make\n",
    "        self.model = model\n",
    "    # self represents the current object\n",
    "    def print_info(self):\n",
    "        print(f\"{self.make} {self.model}\")\n",
    "    # name can be anything but self is recommended\n",
    "    def print_other(ram):\n",
    "        print(f\"{ram.make} {ram.model}\")"
   ]
  },
  {
   "cell_type": "code",
   "execution_count": 392,
   "metadata": {},
   "outputs": [],
   "source": [
    "swift = Vehicle('Maruti', 'Swift')\n",
    "city = Vehicle('Honda', 'city')"
   ]
  },
  {
   "cell_type": "code",
   "execution_count": 393,
   "metadata": {},
   "outputs": [
    {
     "data": {
      "text/plain": [
       "'Honda'"
      ]
     },
     "execution_count": 393,
     "metadata": {},
     "output_type": "execute_result"
    }
   ],
   "source": [
    "city.make"
   ]
  },
  {
   "cell_type": "code",
   "execution_count": 394,
   "metadata": {},
   "outputs": [
    {
     "name": "stdout",
     "output_type": "stream",
     "text": [
      "Honda city\n"
     ]
    }
   ],
   "source": [
    "city.print_info()"
   ]
  },
  {
   "cell_type": "code",
   "execution_count": 395,
   "metadata": {},
   "outputs": [
    {
     "name": "stdout",
     "output_type": "stream",
     "text": [
      "Honda city\n"
     ]
    }
   ],
   "source": [
    "city.print_other()"
   ]
  },
  {
   "cell_type": "code",
   "execution_count": 396,
   "metadata": {},
   "outputs": [],
   "source": [
    "# Generally it is not recommended to give an option to directly change\n",
    "# member values from outside"
   ]
  },
  {
   "cell_type": "code",
   "execution_count": 397,
   "metadata": {},
   "outputs": [
    {
     "name": "stdout",
     "output_type": "stream",
     "text": [
      "Hyundai city\n"
     ]
    }
   ],
   "source": [
    "city.make = 'Hyundai'\n",
    "city.print_info()"
   ]
  },
  {
   "cell_type": "code",
   "execution_count": 398,
   "metadata": {},
   "outputs": [],
   "source": [
    "# To stop this we use `_` or `__` as prefix"
   ]
  },
  {
   "cell_type": "code",
   "execution_count": 399,
   "metadata": {},
   "outputs": [],
   "source": [
    "class Vehicle:\n",
    "    def __init__(self, make, model):\n",
    "        self.__make = make\n",
    "        self.__model = model\n",
    "    \n",
    "    def print_info(self):\n",
    "        print(f\"{self.__make} {self.__model}\")\n",
    "        "
   ]
  },
  {
   "cell_type": "code",
   "execution_count": 400,
   "metadata": {},
   "outputs": [],
   "source": [
    "city = Vehicle('Honda', 'city')"
   ]
  },
  {
   "cell_type": "code",
   "execution_count": 401,
   "metadata": {},
   "outputs": [
    {
     "name": "stdout",
     "output_type": "stream",
     "text": [
      "Honda city\n"
     ]
    }
   ],
   "source": [
    "city.print_info()"
   ]
  },
  {
   "cell_type": "code",
   "execution_count": 402,
   "metadata": {},
   "outputs": [],
   "source": [
    "city.__make = 'Hyundai'"
   ]
  },
  {
   "cell_type": "code",
   "execution_count": 403,
   "metadata": {},
   "outputs": [
    {
     "name": "stdout",
     "output_type": "stream",
     "text": [
      "Honda city\n"
     ]
    }
   ],
   "source": [
    "city.print_info()"
   ]
  },
  {
   "cell_type": "markdown",
   "metadata": {},
   "source": [
    "# Getter and Setter"
   ]
  },
  {
   "cell_type": "code",
   "execution_count": 404,
   "metadata": {},
   "outputs": [],
   "source": [
    "class Vehicle:\n",
    "    def __init__(self, make, model):\n",
    "        self.__make = make\n",
    "        self.__model = model\n",
    "\n",
    "    # Getter \n",
    "    @property\n",
    "    def make(self):\n",
    "        return self.__make\n",
    "    # setter\n",
    "    @make.setter\n",
    "    def make(self, new_make):\n",
    "        self.__make = new_make\n",
    "    \n",
    "    @property\n",
    "    def model(self):\n",
    "        return self.__model\n",
    "    \n",
    "    @model.setter\n",
    "    def model(self, new_model):\n",
    "        self.__model = new_model\n",
    "    \n",
    "    def print_info(self):\n",
    "        print(f\"{self.__make} {self.__model}\")"
   ]
  },
  {
   "cell_type": "code",
   "execution_count": 405,
   "metadata": {},
   "outputs": [
    {
     "data": {
      "text/plain": [
       "'city'"
      ]
     },
     "execution_count": 405,
     "metadata": {},
     "output_type": "execute_result"
    }
   ],
   "source": [
    "city = Vehicle('Honda', 'city')\n",
    "city.model"
   ]
  },
  {
   "cell_type": "code",
   "execution_count": 406,
   "metadata": {},
   "outputs": [
    {
     "name": "stdout",
     "output_type": "stream",
     "text": [
      "Honda Accord\n"
     ]
    }
   ],
   "source": [
    "city.model = 'Accord'\n",
    "city.print_info()"
   ]
  },
  {
   "cell_type": "markdown",
   "metadata": {},
   "source": [
    "# inheritence"
   ]
  },
  {
   "cell_type": "code",
   "execution_count": 407,
   "metadata": {},
   "outputs": [],
   "source": [
    "class Vehicle:\n",
    "    def __init__(self, make, model):\n",
    "        self.__make = make\n",
    "        self.__model = model\n",
    "\n",
    "    # Getter \n",
    "    @property\n",
    "    def make(self):\n",
    "        return self.__make\n",
    "    # setter\n",
    "    @make.setter\n",
    "    def make(self, new_make):\n",
    "        self.__make = new_make\n",
    "    \n",
    "    @property\n",
    "    def model(self):\n",
    "        return self.__model\n",
    "    \n",
    "    @model.setter\n",
    "    def model(self, new_model):\n",
    "        self.__model = new_model\n",
    "    \n",
    "    def print_info(self):\n",
    "        print(f\"{self.__make} {self.__model}\")"
   ]
  },
  {
   "cell_type": "code",
   "execution_count": 408,
   "metadata": {},
   "outputs": [],
   "source": [
    "class Bike(Vehicle):\n",
    "    def print_info(self):\n",
    "        print(\"This is bike\")\n",
    "        # super() goes to base class\n",
    "        return super().print_info()"
   ]
  },
  {
   "cell_type": "code",
   "execution_count": 409,
   "metadata": {},
   "outputs": [],
   "source": [
    "class Car(Vehicle):\n",
    "    # overriding\n",
    "    def print_info(self):\n",
    "        print(\"This is car\")\n",
    "        # super() goes to base class\n",
    "        return super().print_info()"
   ]
  },
  {
   "cell_type": "code",
   "execution_count": 410,
   "metadata": {},
   "outputs": [],
   "source": [
    "class Truck(Vehicle):\n",
    "    pass"
   ]
  },
  {
   "cell_type": "code",
   "execution_count": 411,
   "metadata": {},
   "outputs": [
    {
     "name": "stdout",
     "output_type": "stream",
     "text": [
      "Tata idontknow\n",
      "This is bike\n",
      "Eicher Royal Enfield\n",
      "This is car\n",
      "Honda city\n"
     ]
    }
   ],
   "source": [
    "tata = Truck('Tata', 'idontknow')\n",
    "tata.print_info()\n",
    "enfield = Bike('Eicher', 'Royal Enfield')\n",
    "enfield.print_info()\n",
    "city = Car('Honda', 'city')\n",
    "city.print_info()\n",
    "\n"
   ]
  },
  {
   "cell_type": "code",
   "execution_count": 412,
   "metadata": {},
   "outputs": [],
   "source": [
    "class Account:\n",
    "    def __init__(self, number, name, balance=0):\n",
    "        self.__number = number\n",
    "        self.__name = name\n",
    "        self.__balance = balance\n",
    "\n",
    "    @property\n",
    "    def number(self):\n",
    "        return self.__number\n",
    "    \n",
    "    @property\n",
    "    def name(self):\n",
    "        return self.__name\n",
    "    \n",
    "    @property\n",
    "    def balance(self):\n",
    "        return self.__balance\n",
    "    \n",
    "    def withdraw(self, amount):\n",
    "        self.__balance -= amount\n",
    "\n",
    "    def deposit(self, amount):\n",
    "        self.__balance += amount\n"
   ]
  },
  {
   "cell_type": "code",
   "execution_count": 413,
   "metadata": {},
   "outputs": [],
   "source": [
    "class SavingsAccount(Account):\n",
    "    def withdraw(self, amount):\n",
    "        if self.balance - amount >= 1000:\n",
    "            return super().withdraw(amount)\n",
    "        print(\"invalid transaction\")"
   ]
  },
  {
   "cell_type": "code",
   "execution_count": 414,
   "metadata": {},
   "outputs": [],
   "source": [
    "class CurrentAccount(Account):\n",
    "    pass"
   ]
  },
  {
   "cell_type": "code",
   "execution_count": 415,
   "metadata": {},
   "outputs": [],
   "source": [
    "s1 = SavingsAccount('sabc1001', 1000)\n",
    "c1 = SavingsAccount('cabc1001', 100000)"
   ]
  },
  {
   "cell_type": "code",
   "execution_count": 416,
   "metadata": {},
   "outputs": [
    {
     "name": "stdout",
     "output_type": "stream",
     "text": [
      "invalid transaction\n"
     ]
    }
   ],
   "source": [
    "s1.withdraw(100)"
   ]
  },
  {
   "cell_type": "code",
   "execution_count": 417,
   "metadata": {},
   "outputs": [
    {
     "data": {
      "text/plain": [
       "9900"
      ]
     },
     "execution_count": 417,
     "metadata": {},
     "output_type": "execute_result"
    }
   ],
   "source": [
    "s1.deposit(10000)\n",
    "s1.withdraw(100)\n",
    "s1.balance"
   ]
  }
 ],
 "metadata": {
  "kernelspec": {
   "display_name": "Python 3",
   "language": "python",
   "name": "python3"
  },
  "language_info": {
   "codemirror_mode": {
    "name": "ipython",
    "version": 3
   },
   "file_extension": ".py",
   "mimetype": "text/x-python",
   "name": "python",
   "nbconvert_exporter": "python",
   "pygments_lexer": "ipython3",
   "version": "3.11.4"
  }
 },
 "nbformat": 4,
 "nbformat_minor": 2
}
