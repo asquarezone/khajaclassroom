{
 "cells": [
  {
   "cell_type": "code",
   "execution_count": 2,
   "metadata": {},
   "outputs": [],
   "source": [
    "import os"
   ]
  },
  {
   "cell_type": "code",
   "execution_count": 24,
   "metadata": {},
   "outputs": [
    {
     "data": {
      "text/plain": [
       "'C:\\\\ProgramData'"
      ]
     },
     "execution_count": 24,
     "metadata": {},
     "output_type": "execute_result"
    }
   ],
   "source": [
    "os.environ.get('ALLUSERSPROFILE')"
   ]
  },
  {
   "cell_type": "code",
   "execution_count": 4,
   "metadata": {},
   "outputs": [
    {
     "data": {
      "text/plain": [
       "os._Environ"
      ]
     },
     "execution_count": 4,
     "metadata": {},
     "output_type": "execute_result"
    }
   ],
   "source": [
    "type(os.environ)"
   ]
  },
  {
   "cell_type": "code",
   "execution_count": 5,
   "metadata": {},
   "outputs": [
    {
     "data": {
      "text/plain": [
       "'c:\\\\khajaclassroom\\\\python\\\\Dec24\\\\basics'"
      ]
     },
     "execution_count": 5,
     "metadata": {},
     "output_type": "execute_result"
    }
   ],
   "source": [
    "os.getcwd()"
   ]
  },
  {
   "cell_type": "code",
   "execution_count": 6,
   "metadata": {},
   "outputs": [
    {
     "data": {
      "text/plain": [
       "'c:\\\\Python311;c:\\\\Users\\\\Dell\\\\AppData\\\\Roaming\\\\Python\\\\Python311\\\\Scripts;C:\\\\Program Files\\\\Microsoft SDKs\\\\Azure\\\\CLI2\\\\wbin;C:\\\\Program Files\\\\Eclipse Adoptium\\\\jdk-17.0.7.7-hotspot\\\\bin;C:\\\\Python311\\\\Scripts\\\\;C:\\\\Python311\\\\;C:\\\\Program Files\\\\Microsoft\\\\jdk-11.0.16.101-hotspot\\\\bin;C:\\\\Program Files (x86)\\\\Common Files\\\\Oracle\\\\Java\\\\javapath;C:\\\\Python39\\\\Scripts\\\\;C:\\\\Python39\\\\;C:\\\\Windows\\\\system32;C:\\\\Windows;C:\\\\Windows\\\\System32\\\\Wbem;C:\\\\Windows\\\\System32\\\\WindowsPowerShell\\\\v1.0\\\\;C:\\\\Windows\\\\System32\\\\OpenSSH\\\\;C:\\\\Program Files (x86)\\\\Intel\\\\Intel(R) Management Engine Components\\\\DAL;C:\\\\Program Files\\\\Intel\\\\Intel(R) Management Engine Components\\\\DAL;C:\\\\ProgramData\\\\chocolatey\\\\bin;C:\\\\ProgramData\\\\nvm;C:\\\\Program Files\\\\nodejs;C:\\\\Program Files\\\\OpenJDK\\\\openjdk-11.0.14.1_1\\\\bin;C:\\\\Program Files\\\\dotnet\\\\;C:\\\\WINDOWS\\\\system32;C:\\\\WINDOWS;C:\\\\WINDOWS\\\\System32\\\\Wbem;C:\\\\WINDOWS\\\\System32\\\\WindowsPowerShell\\\\v1.0\\\\;C:\\\\WINDOWS\\\\System32\\\\OpenSSH\\\\;C:\\\\Program Files\\\\Microsoft SQL Server\\\\150\\\\Tools\\\\Binn\\\\;C:\\\\Program Files\\\\Azure Data Studio\\\\bin;C:\\\\packer;C:\\\\WINDOWS\\\\system32;C:\\\\WINDOW;C:\\\\Program Files\\\\Git\\\\cmd;C:\\\\Program Files\\\\Docker\\\\Docker\\\\resources\\\\bin;C:\\\\Program Files\\\\Microsoft VS Code\\\\bin;C:\\\\Program Files\\\\Meld\\\\;c:\\\\Users\\\\Dell\\\\AppData\\\\Local\\\\Programs\\\\cursor\\\\resources\\\\app\\\\bin;C:\\\\Program Files\\\\Amazon\\\\AWSCLIV2\\\\;C:\\\\ProgramData\\\\chocolatey\\\\lib\\\\maven\\\\apache-maven-3.9.9\\\\bin;C:\\\\Program Files\\\\GitHub CLI\\\\;C:\\\\Program Files\\\\Microsoft VS Code;C:\\\\Users\\\\Dell\\\\scoop\\\\shims;C:\\\\WINDOWS\\\\system32\\\\config\\\\systemprofile\\\\AppData\\\\Local\\\\Microsoft\\\\WindowsApps;C:\\\\Security\\\\cov-analysis-win64-2021.12.1\\\\bin;C:\\\\Program Files\\\\Azure Data Studio\\\\bin;C:\\\\Users\\\\Dell\\\\.azure-kubelogin;C:\\\\Users\\\\Dell\\\\.azure-kubectl;C:\\\\WINDOWS\\\\system32\\\\config\\\\systemprofile\\\\.dotnet\\\\tools;C:\\\\Program Files\\\\Google\\\\Chrome\\\\Application;C:\\\\Users\\\\Dell\\\\AppData\\\\Roaming\\\\Python\\\\Python39\\\\Scripts;C:\\\\Users\\\\Dell\\\\AppData\\\\Local\\\\Programs\\\\Lens\\\\resources\\\\cli\\\\bin;C:\\\\Users\\\\Dell\\\\AppData\\\\Local\\\\Google\\\\Cloud SDK\\\\google-cloud-sdk\\\\bin;C:\\\\Users\\\\Dell\\\\.dotnet\\\\tools;c:\\\\users\\\\dell\\\\.local\\\\bin;C:\\\\Users\\\\Dell\\\\AppData\\\\Local\\\\Programs\\\\mongosh\\\\;;C:\\\\Program Files\\\\Microsoft SDKs\\\\Azure\\\\CLI2\\\\wbin;C:\\\\Program Files\\\\Eclipse Adoptium\\\\jdk-17.0.7.7-hotspot\\\\bin;C:\\\\Python311\\\\Scripts\\\\;C:\\\\Python311\\\\;C:\\\\Program Files\\\\Microsoft\\\\jdk-11.0.16.101-hotspot\\\\bin;C:\\\\Program Files (x86)\\\\Common Files\\\\Oracle\\\\Java\\\\javapath;C:\\\\Python39\\\\Scripts\\\\;C:\\\\Python39\\\\;C:\\\\Windows\\\\system32;C:\\\\Windows;C:\\\\Windows\\\\System32\\\\Wbem;C:\\\\Windows\\\\System32\\\\WindowsPowerShell\\\\v1.0\\\\;C:\\\\Windows\\\\System32\\\\OpenSSH\\\\;C:\\\\Program Files (x86)\\\\Intel\\\\Intel(R) Management Engine Components\\\\DAL;C:\\\\Program Files\\\\Intel\\\\Intel(R) Management Engine Components\\\\DAL;C:\\\\ProgramData\\\\chocolatey\\\\bin;C:\\\\ProgramData\\\\nvm;C:\\\\Program Files\\\\nodejs;C:\\\\Program Files\\\\OpenJDK\\\\openjdk-11.0.14.1_1\\\\bin;C:\\\\Program Files\\\\dotnet\\\\;C:\\\\WINDOWS\\\\system32;C:\\\\WINDOWS;C:\\\\WINDOWS\\\\System32\\\\Wbem;C:\\\\WINDOWS\\\\System32\\\\WindowsPowerShell\\\\v1.0\\\\;C:\\\\WINDOWS\\\\System32\\\\OpenSSH\\\\;C:\\\\Program Files\\\\Microsoft SQL Server\\\\150\\\\Tools\\\\Binn\\\\;C:\\\\Program Files\\\\Azure Data Studio\\\\bin;C:\\\\packer;C:\\\\WINDOWS\\\\system32;C:\\\\WINDOW;C:\\\\Program Files\\\\Git\\\\cmd;C:\\\\Program Files\\\\Docker\\\\Docker\\\\resources\\\\bin;C:\\\\Program Files\\\\Microsoft VS Code\\\\bin;C:\\\\Program Files\\\\Meld\\\\;c:\\\\Users\\\\Dell\\\\AppData\\\\Local\\\\Programs\\\\cursor\\\\resources\\\\app\\\\bin;C:\\\\Program Files\\\\Amazon\\\\AWSCLIV2\\\\;C:\\\\ProgramData\\\\chocolatey\\\\lib\\\\maven\\\\apache-maven-3.9.9\\\\bin;C:\\\\Program Files\\\\GitHub CLI\\\\;C:\\\\Program Files\\\\Microsoft VS Code;C:\\\\Users\\\\Dell\\\\scoop\\\\shims;C:\\\\WINDOWS\\\\system32\\\\config\\\\systemprofile\\\\AppData\\\\Local\\\\Microsoft\\\\WindowsApps;C:\\\\Security\\\\cov-analysis-win64-2021.12.1\\\\bin;C:\\\\Program Files\\\\Azure Data Studio\\\\bin;C:\\\\Users\\\\Dell\\\\.azure-kubelogin;C:\\\\Users\\\\Dell\\\\.azure-kubectl;C:\\\\WINDOWS\\\\system32\\\\config\\\\systemprofile\\\\.dotnet\\\\tools;C:\\\\Program Files\\\\Google\\\\Chrome\\\\Application;C:\\\\Users\\\\Dell\\\\AppData\\\\Roaming\\\\Python\\\\Python39\\\\Scripts;C:\\\\Users\\\\Dell\\\\AppData\\\\Local\\\\Programs\\\\Lens\\\\resources\\\\cli\\\\bin;C:\\\\Users\\\\Dell\\\\AppData\\\\Local\\\\Google\\\\Cloud SDK\\\\google-cloud-sdk\\\\bin;C:\\\\Users\\\\Dell\\\\.dotnet\\\\tools;c:\\\\users\\\\dell\\\\.local\\\\bin;C:\\\\Users\\\\Dell\\\\AppData\\\\Local\\\\Programs\\\\mongosh\\\\;'"
      ]
     },
     "execution_count": 6,
     "metadata": {},
     "output_type": "execute_result"
    }
   ],
   "source": [
    "os.getenv('PATH')"
   ]
  },
  {
   "cell_type": "code",
   "execution_count": 8,
   "metadata": {},
   "outputs": [
    {
     "data": {
      "text/plain": [
       "'nt'"
      ]
     },
     "execution_count": 8,
     "metadata": {},
     "output_type": "execute_result"
    }
   ],
   "source": [
    "os.name"
   ]
  },
  {
   "cell_type": "code",
   "execution_count": 9,
   "metadata": {},
   "outputs": [
    {
     "data": {
      "text/plain": [
       "'win32'"
      ]
     },
     "execution_count": 9,
     "metadata": {},
     "output_type": "execute_result"
    }
   ],
   "source": [
    "import sys\n",
    "sys.platform"
   ]
  },
  {
   "cell_type": "code",
   "execution_count": 10,
   "metadata": {},
   "outputs": [
    {
     "data": {
      "text/plain": [
       "'Windows'"
      ]
     },
     "execution_count": 10,
     "metadata": {},
     "output_type": "execute_result"
    }
   ],
   "source": [
    "import platform\n",
    "platform.system()"
   ]
  },
  {
   "cell_type": "code",
   "execution_count": 11,
   "metadata": {},
   "outputs": [
    {
     "data": {
      "text/plain": [
       "110"
      ]
     },
     "execution_count": 11,
     "metadata": {},
     "output_type": "execute_result"
    }
   ],
   "source": [
    "# find all the directories in path varaible\n",
    "allpaths = os.getenv('PATH')\n",
    "path_list = allpaths.split(';')\n",
    "len(path_list)\n"
   ]
  },
  {
   "cell_type": "code",
   "execution_count": 14,
   "metadata": {},
   "outputs": [],
   "source": [
    "# list comprehensions\n",
    "\n",
    "# square of every number in a list\n",
    "numbers = [1, 2, 3]"
   ]
  },
  {
   "cell_type": "code",
   "execution_count": 15,
   "metadata": {},
   "outputs": [
    {
     "data": {
      "text/plain": [
       "[1, 4, 9]"
      ]
     },
     "execution_count": 15,
     "metadata": {},
     "output_type": "execute_result"
    }
   ],
   "source": [
    "results = []\n",
    "for number in numbers:\n",
    "    results.append(number * number)\n",
    "results"
   ]
  },
  {
   "cell_type": "code",
   "execution_count": 16,
   "metadata": {},
   "outputs": [
    {
     "data": {
      "text/plain": [
       "[1, 4, 9]"
      ]
     },
     "execution_count": 16,
     "metadata": {},
     "output_type": "execute_result"
    }
   ],
   "source": [
    "[ number * number for number in numbers ]"
   ]
  },
  {
   "cell_type": "code",
   "execution_count": 20,
   "metadata": {},
   "outputs": [
    {
     "data": {
      "text/plain": [
       "[1, 2, 3, 4, 5, 6, 7, 8, 9]"
      ]
     },
     "execution_count": 20,
     "metadata": {},
     "output_type": "execute_result"
    }
   ],
   "source": [
    "# square of all numbers if they are odd\n",
    "numbers =  list(range(1,10))\n",
    "numbers"
   ]
  },
  {
   "cell_type": "code",
   "execution_count": 21,
   "metadata": {},
   "outputs": [
    {
     "data": {
      "text/plain": [
       "[1, 9, 25, 49, 81]"
      ]
     },
     "execution_count": 21,
     "metadata": {},
     "output_type": "execute_result"
    }
   ],
   "source": [
    "squares = []\n",
    "for number in numbers:\n",
    "    if number % 2 != 0:\n",
    "        squares.append(number * number)\n",
    "squares"
   ]
  },
  {
   "cell_type": "code",
   "execution_count": 23,
   "metadata": {},
   "outputs": [
    {
     "data": {
      "text/plain": [
       "[1, 9, 25, 49, 81]"
      ]
     },
     "execution_count": 23,
     "metadata": {},
     "output_type": "execute_result"
    }
   ],
   "source": [
    "[ number * number for number in numbers if number%2 != 0 ]"
   ]
  }
 ],
 "metadata": {
  "kernelspec": {
   "display_name": "Python 3",
   "language": "python",
   "name": "python3"
  },
  "language_info": {
   "codemirror_mode": {
    "name": "ipython",
    "version": 3
   },
   "file_extension": ".py",
   "mimetype": "text/x-python",
   "name": "python",
   "nbconvert_exporter": "python",
   "pygments_lexer": "ipython3",
   "version": "3.11.4"
  }
 },
 "nbformat": 4,
 "nbformat_minor": 2
}
