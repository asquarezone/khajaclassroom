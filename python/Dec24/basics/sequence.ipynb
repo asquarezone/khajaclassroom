{
 "cells": [
  {
   "cell_type": "markdown",
   "metadata": {},
   "source": [
    "# sequence datatypes"
   ]
  },
  {
   "cell_type": "code",
   "execution_count": 2,
   "metadata": {},
   "outputs": [
    {
     "name": "stdout",
     "output_type": "stream",
     "text": [
      "P\n",
      "n\n"
     ]
    }
   ],
   "source": [
    "# string\n",
    "name = 'Python'\n",
    "print(name[0])\n",
    "print(name[-1])"
   ]
  },
  {
   "cell_type": "code",
   "execution_count": 8,
   "metadata": {},
   "outputs": [
    {
     "name": "stdout",
     "output_type": "stream",
     "text": [
      "1\n",
      "True\n",
      "[1, 2, 3]\n",
      "3\n",
      "[1, 'red', True, 2.5]\n",
      "[10, 'red', True, 2.5]\n"
     ]
    }
   ],
   "source": [
    "# list\n",
    "# it is mutable collection of values\n",
    "items = [1, 'red', True, 2.5]\n",
    "# list items can be of different data types\n",
    "matrix = [ [1,2,3], [4,5,6]]\n",
    "print(items[0])\n",
    "print(items[-2])\n",
    "print(matrix[0])\n",
    "print(matrix[0][-1])\n",
    "print(items)\n",
    "items[0] = 10\n",
    "print(items)"
   ]
  },
  {
   "cell_type": "code",
   "execution_count": null,
   "metadata": {},
   "outputs": [
    {
     "name": "stdout",
     "output_type": "stream",
     "text": [
      "python\n",
      "azure\n"
     ]
    },
    {
     "ename": "TypeError",
     "evalue": "'tuple' object does not support item assignment",
     "output_type": "error",
     "traceback": [
      "\u001b[1;31m---------------------------------------------------------------------------\u001b[0m",
      "\u001b[1;31mTypeError\u001b[0m                                 Traceback (most recent call last)",
      "Cell \u001b[1;32mIn[10], line 6\u001b[0m\n\u001b[0;32m      4\u001b[0m \u001b[38;5;28mprint\u001b[39m(subjects[\u001b[38;5;241m0\u001b[39m])\n\u001b[0;32m      5\u001b[0m \u001b[38;5;28mprint\u001b[39m(subjects[\u001b[38;5;241m-\u001b[39m\u001b[38;5;241m1\u001b[39m])\n\u001b[1;32m----> 6\u001b[0m \u001b[43msubjects\u001b[49m\u001b[43m[\u001b[49m\u001b[38;5;241;43m0\u001b[39;49m\u001b[43m]\u001b[49m \u001b[38;5;241m=\u001b[39m \u001b[38;5;124m'\u001b[39m\u001b[38;5;124mbash\u001b[39m\u001b[38;5;124m'\u001b[39m\n",
      "\u001b[1;31mTypeError\u001b[0m: 'tuple' object does not support item assignment"
     ]
    }
   ],
   "source": [
    "# Tuple => This is immutable and will not allows changes\n",
    "\n",
    "subjects = ('python', 'aws', 'azure')\n",
    "print(subjects[0])\n",
    "print(subjects[-1])\n",
    "# changes are not allowed in tuples\n",
    "subjects[0] = 'bash'\n"
   ]
  },
  {
   "cell_type": "code",
   "execution_count": 14,
   "metadata": {},
   "outputs": [
    {
     "name": "stdout",
     "output_type": "stream",
     "text": [
      "<class 'set'>\n",
      "red\n"
     ]
    }
   ],
   "source": [
    "# set\n",
    "# set is an unique collection of items\n",
    "colors = { 'red', 'blue'}\n",
    "print(type(colors))\n",
    "# here only set operations are supported\n",
    "print(colors[0])\n",
    "# to access items convert this to list or tuple\n",
    "# list(colors)[0]\n",
    "# tuple(colors)[0]"
   ]
  },
  {
   "cell_type": "code",
   "execution_count": 20,
   "metadata": {},
   "outputs": [
    {
     "name": "stdout",
     "output_type": "stream",
     "text": [
      "[0, 1, 2, 3, 4, 5, 6, 7, 8, 9]\n",
      "[10, 11, 12, 13, 14, 15, 16, 17, 18, 19]\n",
      "[10, 12, 14, 16, 18]\n"
     ]
    }
   ],
   "source": [
    "print(list(range(10)))\n",
    "print(list(range(10,20)))\n",
    "print(list(range(10,20,2)))"
   ]
  },
  {
   "cell_type": "markdown",
   "metadata": {},
   "source": [
    "#  Slicing\n",
    "\n",
    "<sequence>[<start>:<end>:<step>]"
   ]
  },
  {
   "cell_type": "code",
   "execution_count": 27,
   "metadata": {},
   "outputs": [
    {
     "name": "stdout",
     "output_type": "stream",
     "text": [
      "[1, 2, 3, 4, 5, 6, 7, 8, 9, 10]\n",
      "[1, 2, 3, 4]\n",
      "[1, 3, 5, 7, 9]\n",
      "[2, 4, 6, 8, 10]\n",
      "[10, 9, 8, 7, 6, 5, 4, 3, 2, 1]\n"
     ]
    },
    {
     "data": {
      "text/plain": [
       "'madaM'"
      ]
     },
     "execution_count": 27,
     "metadata": {},
     "output_type": "execute_result"
    }
   ],
   "source": [
    "numbers = list(range(1,11))\n",
    "print(numbers)\n",
    "\n",
    "# lets get first four items\n",
    "print(numbers[:4])\n",
    "\n",
    "# lets print all the items alternative\n",
    "print(numbers[::2])\n",
    "print(numbers[1::2])\n",
    "\n",
    "# reverse \n",
    "print(numbers[::-1])\n",
    "\n",
    "# slicing can be applied to tuples, list and string\n",
    "name = 'madam'\n",
    "name[::-1]"
   ]
  },
  {
   "cell_type": "code",
   "execution_count": 28,
   "metadata": {},
   "outputs": [
    {
     "name": "stdout",
     "output_type": "stream",
     "text": [
      "Pallendrome\n"
     ]
    }
   ],
   "source": [
    "# pallendrome\n",
    "name = 'madam'\n",
    "if name == name[::-1]:\n",
    "    print(\"Pallendrome\")"
   ]
  },
  {
   "cell_type": "code",
   "execution_count": 37,
   "metadata": {},
   "outputs": [
    {
     "name": "stdout",
     "output_type": "stream",
     "text": [
      "10\n",
      "12\n",
      "14\n",
      "16\n",
      "18\n"
     ]
    }
   ],
   "source": [
    "# print all even numbers from start to end\n",
    "for number in range(10, 20):\n",
    "    if number % 2 == 0:\n",
    "        print(number)"
   ]
  },
  {
   "cell_type": "code",
   "execution_count": 36,
   "metadata": {},
   "outputs": [
    {
     "name": "stdout",
     "output_type": "stream",
     "text": [
      "10\n",
      "12\n",
      "14\n",
      "16\n",
      "18\n"
     ]
    }
   ],
   "source": [
    "# same stuff in while\n",
    "start = 10\n",
    "end = 20\n",
    "while start < end:\n",
    "    if start % 2 == 0:\n",
    "        print(start)\n",
    "    start +=1"
   ]
  },
  {
   "cell_type": "code",
   "execution_count": 40,
   "metadata": {},
   "outputs": [
    {
     "name": "stdout",
     "output_type": "stream",
     "text": [
      "red\n",
      "blue\n",
      "green\n",
      "red\n",
      "blue\n",
      "green\n"
     ]
    }
   ],
   "source": [
    "colors = ['red', 'blue', 'green']\n",
    "# while loop\n",
    "index = 0\n",
    "while index < len(colors):\n",
    "    print(colors[index])\n",
    "    index += 1\n",
    "\n",
    "# for loop\n",
    "\n",
    "for color in colors:\n",
    "    print(color)"
   ]
  }
 ],
 "metadata": {
  "kernelspec": {
   "display_name": "Python 3",
   "language": "python",
   "name": "python3"
  },
  "language_info": {
   "codemirror_mode": {
    "name": "ipython",
    "version": 3
   },
   "file_extension": ".py",
   "mimetype": "text/x-python",
   "name": "python",
   "nbconvert_exporter": "python",
   "pygments_lexer": "ipython3",
   "version": "3.11.4"
  }
 },
 "nbformat": 4,
 "nbformat_minor": 2
}
