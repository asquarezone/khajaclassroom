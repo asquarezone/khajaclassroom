{
 "cells": [
  {
   "cell_type": "markdown",
   "metadata": {},
   "source": [
    "# Errors and Exceptions"
   ]
  },
  {
   "cell_type": "code",
   "execution_count": 15,
   "metadata": {},
   "outputs": [
    {
     "ename": "ZeroDivisionError",
     "evalue": "division by zero",
     "output_type": "error",
     "traceback": [
      "\u001b[1;31m---------------------------------------------------------------------------\u001b[0m",
      "\u001b[1;31mZeroDivisionError\u001b[0m                         Traceback (most recent call last)",
      "Cell \u001b[1;32mIn[15], line 3\u001b[0m\n\u001b[0;32m      1\u001b[0m x \u001b[38;5;241m=\u001b[39m \u001b[38;5;241m5\u001b[39m\n\u001b[0;32m      2\u001b[0m y \u001b[38;5;241m=\u001b[39m \u001b[38;5;241m0\u001b[39m\n\u001b[1;32m----> 3\u001b[0m \u001b[43mx\u001b[49m\u001b[38;5;241;43m/\u001b[39;49m\u001b[43my\u001b[49m\n",
      "\u001b[1;31mZeroDivisionError\u001b[0m: division by zero"
     ]
    }
   ],
   "source": [
    "x = 5\n",
    "y = 0\n",
    "x/y"
   ]
  },
  {
   "cell_type": "code",
   "execution_count": 2,
   "metadata": {},
   "outputs": [
    {
     "name": "stdout",
     "output_type": "stream",
     "text": [
      "Error occured\n"
     ]
    }
   ],
   "source": [
    "# handling exception\n",
    "try:\n",
    "    x = 5\n",
    "    y = 0\n",
    "    x / y\n",
    "except:\n",
    "    print(\"Error occured\")"
   ]
  },
  {
   "cell_type": "code",
   "execution_count": 4,
   "metadata": {},
   "outputs": [
    {
     "name": "stdout",
     "output_type": "stream",
     "text": [
      "Ensure y is not zero\n"
     ]
    }
   ],
   "source": [
    "# handling exception\n",
    "try:\n",
    "    x = 5\n",
    "    y = 0\n",
    "    x / y\n",
    "except ZeroDivisionError:\n",
    "    print(\"Ensure y is not zero\")\n"
   ]
  },
  {
   "cell_type": "code",
   "execution_count": 5,
   "metadata": {},
   "outputs": [
    {
     "name": "stdout",
     "output_type": "stream",
     "text": [
      "in else\n"
     ]
    }
   ],
   "source": [
    "# handling exception\n",
    "try:\n",
    "    x = 5\n",
    "    y = 1\n",
    "    x / y\n",
    "except ZeroDivisionError:\n",
    "    print(\"Ensure y is not zero\")\n",
    "else:\n",
    "    print(\"in else\")\n"
   ]
  },
  {
   "cell_type": "code",
   "execution_count": 6,
   "metadata": {},
   "outputs": [
    {
     "name": "stdout",
     "output_type": "stream",
     "text": [
      "Ensure y is not zero\n"
     ]
    }
   ],
   "source": [
    "# handling exception\n",
    "try:\n",
    "    x = 5\n",
    "    y = 0\n",
    "    x / y\n",
    "except ZeroDivisionError:\n",
    "    print(\"Ensure y is not zero\")\n",
    "else:\n",
    "    print(\"in else\")\n"
   ]
  },
  {
   "cell_type": "code",
   "execution_count": 7,
   "metadata": {},
   "outputs": [
    {
     "name": "stdout",
     "output_type": "stream",
     "text": [
      "Ensure y is not zero\n",
      "in finally\n"
     ]
    }
   ],
   "source": [
    "try:\n",
    "    x = 5\n",
    "    y = 0\n",
    "    x / y\n",
    "except ZeroDivisionError:\n",
    "    print(\"Ensure y is not zero\")\n",
    "else:\n",
    "    print(\"in else\")\n",
    "finally:\n",
    "    print(\"in finally\")"
   ]
  },
  {
   "cell_type": "code",
   "execution_count": 8,
   "metadata": {},
   "outputs": [
    {
     "name": "stdout",
     "output_type": "stream",
     "text": [
      "in else\n",
      "in finally\n"
     ]
    }
   ],
   "source": [
    "try:\n",
    "    x = 5\n",
    "    y = 1\n",
    "    x / y\n",
    "except ZeroDivisionError:\n",
    "    print(\"Ensure y is not zero\")\n",
    "else:\n",
    "    print(\"in else\")\n",
    "finally:\n",
    "    print(\"in finally\")"
   ]
  },
  {
   "cell_type": "code",
   "execution_count": 9,
   "metadata": {},
   "outputs": [],
   "source": [
    "# Create an Exception\n",
    "\n",
    "class InvalidInvestment(Exception):\n",
    "    pass\n",
    "\n",
    "class InvalidRateOfReturns(Exception):\n",
    "    pass"
   ]
  },
  {
   "cell_type": "code",
   "execution_count": 12,
   "metadata": {},
   "outputs": [],
   "source": [
    "# defining functions\n",
    "# raise Exceptions on invalid cases and document them\n",
    "def invest(amount, rate):\n",
    "    \"\"\" This method creates an investment\n",
    "\n",
    "    Arguments:\n",
    "        amount (float):\n",
    "        rate   (float)\n",
    "\n",
    "    Raises:\n",
    "       InvalidInvestment if amount is less than zeor\n",
    "       InvalidRateOfReturns if rate is not in range of 1 to 999\n",
    "    \"\"\"\n",
    "    if amount <= 0:\n",
    "        # throw an exception\n",
    "        raise InvalidInvestment\n",
    "    if 0 < rate < 1000 :\n",
    "        pass\n",
    "    else:\n",
    "        raise InvalidRateOfReturns"
   ]
  },
  {
   "cell_type": "code",
   "execution_count": null,
   "metadata": {},
   "outputs": [
    {
     "ename": "InvalidInvestment",
     "evalue": "",
     "output_type": "error",
     "traceback": [
      "\u001b[1;31m---------------------------------------------------------------------------\u001b[0m",
      "\u001b[1;31mInvalidInvestment\u001b[0m                         Traceback (most recent call last)",
      "Cell \u001b[1;32mIn[13], line 1\u001b[0m\n\u001b[1;32m----> 1\u001b[0m \u001b[43minvest\u001b[49m\u001b[43m(\u001b[49m\u001b[38;5;241;43m0\u001b[39;49m\u001b[43m,\u001b[49m\u001b[38;5;241;43m0\u001b[39;49m\u001b[43m)\u001b[49m\n",
      "Cell \u001b[1;32mIn[12], line 14\u001b[0m, in \u001b[0;36minvest\u001b[1;34m(amount, rate)\u001b[0m\n\u001b[0;32m      2\u001b[0m \u001b[38;5;250m\u001b[39m\u001b[38;5;124;03m\"\"\" This method creates an investment\u001b[39;00m\n\u001b[0;32m      3\u001b[0m \n\u001b[0;32m      4\u001b[0m \u001b[38;5;124;03mArguments:\u001b[39;00m\n\u001b[1;32m   (...)\u001b[0m\n\u001b[0;32m     10\u001b[0m \u001b[38;5;124;03m   InvalidRateOfReturns if rate is not in range of 1 to 999\u001b[39;00m\n\u001b[0;32m     11\u001b[0m \u001b[38;5;124;03m\"\"\"\u001b[39;00m\n\u001b[0;32m     12\u001b[0m \u001b[38;5;28;01mif\u001b[39;00m amount \u001b[38;5;241m<\u001b[39m\u001b[38;5;241m=\u001b[39m \u001b[38;5;241m0\u001b[39m:\n\u001b[0;32m     13\u001b[0m     \u001b[38;5;66;03m# throw an exception\u001b[39;00m\n\u001b[1;32m---> 14\u001b[0m     \u001b[38;5;28;01mraise\u001b[39;00m InvalidInvestment\n\u001b[0;32m     15\u001b[0m \u001b[38;5;28;01mif\u001b[39;00m \u001b[38;5;241m0\u001b[39m \u001b[38;5;241m<\u001b[39m rate \u001b[38;5;241m<\u001b[39m \u001b[38;5;241m1000\u001b[39m :\n\u001b[0;32m     16\u001b[0m     \u001b[38;5;28;01mpass\u001b[39;00m\n",
      "\u001b[1;31mInvalidInvestment\u001b[0m: "
     ]
    }
   ],
   "source": [
    "invest(0,0)"
   ]
  },
  {
   "cell_type": "code",
   "execution_count": 14,
   "metadata": {},
   "outputs": [
    {
     "name": "stdout",
     "output_type": "stream",
     "text": [
      "Change the amount\n"
     ]
    }
   ],
   "source": [
    "# Calling the existing functions\n",
    "# handle exceptions\n",
    "try:\n",
    "    invest(0, 10)\n",
    "except InvalidInvestment:\n",
    "    print(\"Change the amount\")\n",
    "except InvalidRateOfReturns:\n",
    "    print(\"Change the returns\")"
   ]
  }
 ],
 "metadata": {
  "kernelspec": {
   "display_name": "Python 3",
   "language": "python",
   "name": "python3"
  },
  "language_info": {
   "codemirror_mode": {
    "name": "ipython",
    "version": 3
   },
   "file_extension": ".py",
   "mimetype": "text/x-python",
   "name": "python",
   "nbconvert_exporter": "python",
   "pygments_lexer": "ipython3",
   "version": "3.11.4"
  }
 },
 "nbformat": 4,
 "nbformat_minor": 2
}
